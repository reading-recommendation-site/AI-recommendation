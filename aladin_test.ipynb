{
 "cells": [
  {
   "cell_type": "code",
   "execution_count": 8,
   "id": "53dbc779-e364-41d7-bafd-bbff7e29f804",
   "metadata": {},
   "outputs": [],
   "source": [
    "import numpy as np\n",
    "import pandas as pd\n",
    "from sklearn.feature_extraction.text import TfidfVectorizer\n",
    "from sklearn.metrics.pairwise import cosine_similarity"
   ]
  },
  {
   "cell_type": "code",
   "execution_count": 9,
   "id": "2b807a41-b294-4c73-a5fb-20ffc4e2ab16",
   "metadata": {},
   "outputs": [],
   "source": [
    "dir_path = './data/'"
   ]
  },
  {
   "cell_type": "code",
   "execution_count": 15,
   "id": "e0851667-f05d-4485-a69a-0123a53de944",
   "metadata": {
    "tags": []
   },
   "outputs": [],
   "source": [
    "def load_books_data(file_path):\n",
    "    books_df = pd.read_excel(file_path, engine='openpyxl')\n",
    "    return books_df\n",
    "\n",
    "def create_tfidf_matrix(books_df):\n",
    "    vectorizer = TfidfVectorizer(stop_words='english')\n",
    "    tfidf_matrix = vectorizer.fit_transform(books_df['description'])\n",
    "    return tfidf_matrix\n",
    "\n",
    "def calculate_similarity_matrix(tfidf_matrix):\n",
    "    similarity_matrix = cosine_similarity(tfidf_matrix, tfidf_matrix)\n",
    "    return similarity_matrix\n",
    "\n",
    "def recommend_books(book_isbn, books_df, similarity_matrix, top_n=5):\n",
    "    indices = pd.Series(books_df.index, index=books_df['isbn'])\n",
    "    book_index = indices[book_isbn]\n",
    "\n",
    "    similarity_scores = list(enumerate(similarity_matrix[book_index]))\n",
    "    similarity_scores = sorted(similarity_scores, key=lambda x: x[1], reverse=True)\n",
    "    top_similar_books_indices = [i[0] for i in similarity_scores[1:top_n+1]]\n",
    "\n",
    "    return books_df.iloc[top_similar_books_indices]\n",
    "\n",
    "if __name__ == '__main__':\n",
    "    books_data_path = dir_path+'aladin_20230515_final.xlsx'\n",
    "    books_df = load_books_data(books_data_path)\n",
    "    tfidf_matrix = create_tfidf_matrix(books_df)\n",
    "    similarity_matrix = calculate_similarity_matrix(tfidf_matrix)\n",
    "\n",
    "    book_isbn = '9791190299770' # The book title you want to get recommendations for\n",
    "    recommendations = recommend_books(book_isbn, books_df, similarity_matrix)"
   ]
  },
  {
   "cell_type": "code",
   "execution_count": 16,
   "id": "faf74527-486c-4bfc-aa01-8807ca88a42e",
   "metadata": {},
   "outputs": [
    {
     "data": {
      "text/html": [
       "<div>\n",
       "<style scoped>\n",
       "    .dataframe tbody tr th:only-of-type {\n",
       "        vertical-align: middle;\n",
       "    }\n",
       "\n",
       "    .dataframe tbody tr th {\n",
       "        vertical-align: top;\n",
       "    }\n",
       "\n",
       "    .dataframe thead th {\n",
       "        text-align: right;\n",
       "    }\n",
       "</style>\n",
       "<table border=\"1\" class=\"dataframe\">\n",
       "  <thead>\n",
       "    <tr style=\"text-align: right;\">\n",
       "      <th></th>\n",
       "      <th>isbn</th>\n",
       "      <th>title</th>\n",
       "      <th>description</th>\n",
       "      <th>author</th>\n",
       "      <th>cover</th>\n",
       "    </tr>\n",
       "  </thead>\n",
       "  <tbody>\n",
       "    <tr>\n",
       "      <th>951</th>\n",
       "      <td>9791190299886</td>\n",
       "      <td>모든 삶은 흐른다</td>\n",
       "      <td>2022년 프랑스 최고의 철학과 교수로 꼽힌 로랑스 드빌레르의 인문에세이로 출간 후...</td>\n",
       "      <td>로랑스 드빌레르 (지은이), 이주영 (옮긴이)</td>\n",
       "      <td>https://image.aladin.co.kr/product/31554/58/co...</td>\n",
       "    </tr>\n",
       "    <tr>\n",
       "      <th>594</th>\n",
       "      <td>9788937443848</td>\n",
       "      <td>이방인</td>\n",
       "      <td>'민음사 세계문학전집' 266권. 20세기의 지성이자 실존주의 문학의 대표 작가, ...</td>\n",
       "      <td>알베르 카뮈 (지은이), 김화영 (옮긴이)</td>\n",
       "      <td>https://image.aladin.co.kr/product/21224/66/co...</td>\n",
       "    </tr>\n",
       "    <tr>\n",
       "      <th>1344</th>\n",
       "      <td>9788937495663</td>\n",
       "      <td>이방인</td>\n",
       "      <td>'민음사 세계문학전집' 266권. 20세기의 지성이자 실존주의 문학의 대표 작가, ...</td>\n",
       "      <td>알베르 카뮈 (지은이), 김화영 (옮긴이)</td>\n",
       "      <td>https://image.aladin.co.kr/product/1809/47/cov...</td>\n",
       "    </tr>\n",
       "    <tr>\n",
       "      <th>1873</th>\n",
       "      <td>9791157846580</td>\n",
       "      <td>만화로 보는 결정적 세계사 - 제2차 세계대전부터 21세기까지, 지정학으로 본 국제정치사</td>\n",
       "      <td>제2차 세계대전 이후부터 21세기 초반까지, 세계사에 한 획을 긋고 국제정세를 바꾼...</td>\n",
       "      <td>파스칼 보니파스 (지은이), 토미 (그림), 이수진 (옮긴이), 김준형 (감수)</td>\n",
       "      <td>https://image.aladin.co.kr/product/31489/64/co...</td>\n",
       "    </tr>\n",
       "    <tr>\n",
       "      <th>1520</th>\n",
       "      <td>9788930041256</td>\n",
       "      <td>야만의 시대 - 14세기 프랑스 자크리 농민전쟁의 회고</td>\n",
       "      <td>중세 프랑스 자크리 농민전쟁에 가담한 농노가 자신의 인생사와 당대의 사회상을 사실적...</td>\n",
       "      <td>마르셀 (지은이), 김용채 (옮긴이), 자크 콜랭 드 플랑시 (편역)</td>\n",
       "      <td>https://image.aladin.co.kr/product/31642/76/co...</td>\n",
       "    </tr>\n",
       "  </tbody>\n",
       "</table>\n",
       "</div>"
      ],
      "text/plain": [
       "               isbn                                              title  \\\n",
       "951   9791190299886                                          모든 삶은 흐른다   \n",
       "594   9788937443848                                                이방인   \n",
       "1344  9788937495663                                                이방인   \n",
       "1873  9791157846580  만화로 보는 결정적 세계사 - 제2차 세계대전부터 21세기까지, 지정학으로 본 국제정치사   \n",
       "1520  9788930041256                     야만의 시대 - 14세기 프랑스 자크리 농민전쟁의 회고   \n",
       "\n",
       "                                            description  \\\n",
       "951   2022년 프랑스 최고의 철학과 교수로 꼽힌 로랑스 드빌레르의 인문에세이로 출간 후...   \n",
       "594   '민음사 세계문학전집' 266권. 20세기의 지성이자 실존주의 문학의 대표 작가, ...   \n",
       "1344  '민음사 세계문학전집' 266권. 20세기의 지성이자 실존주의 문학의 대표 작가, ...   \n",
       "1873  제2차 세계대전 이후부터 21세기 초반까지, 세계사에 한 획을 긋고 국제정세를 바꾼...   \n",
       "1520  중세 프랑스 자크리 농민전쟁에 가담한 농노가 자신의 인생사와 당대의 사회상을 사실적...   \n",
       "\n",
       "                                            author  \\\n",
       "951                      로랑스 드빌레르 (지은이), 이주영 (옮긴이)   \n",
       "594                        알베르 카뮈 (지은이), 김화영 (옮긴이)   \n",
       "1344                       알베르 카뮈 (지은이), 김화영 (옮긴이)   \n",
       "1873  파스칼 보니파스 (지은이), 토미 (그림), 이수진 (옮긴이), 김준형 (감수)   \n",
       "1520        마르셀 (지은이), 김용채 (옮긴이), 자크 콜랭 드 플랑시 (편역)   \n",
       "\n",
       "                                                  cover  \n",
       "951   https://image.aladin.co.kr/product/31554/58/co...  \n",
       "594   https://image.aladin.co.kr/product/21224/66/co...  \n",
       "1344  https://image.aladin.co.kr/product/1809/47/cov...  \n",
       "1873  https://image.aladin.co.kr/product/31489/64/co...  \n",
       "1520  https://image.aladin.co.kr/product/31642/76/co...  "
      ]
     },
     "execution_count": 16,
     "metadata": {},
     "output_type": "execute_result"
    }
   ],
   "source": [
    "recommendations"
   ]
  },
  {
   "cell_type": "code",
   "execution_count": null,
   "id": "2ff2886c-e168-42b8-8bf9-8182eed2704f",
   "metadata": {},
   "outputs": [],
   "source": []
  }
 ],
 "metadata": {
  "kernelspec": {
   "display_name": "Python 3 (ipykernel)",
   "language": "python",
   "name": "python3"
  },
  "language_info": {
   "codemirror_mode": {
    "name": "ipython",
    "version": 3
   },
   "file_extension": ".py",
   "mimetype": "text/x-python",
   "name": "python",
   "nbconvert_exporter": "python",
   "pygments_lexer": "ipython3",
   "version": "3.9.12"
  }
 },
 "nbformat": 4,
 "nbformat_minor": 5
}
